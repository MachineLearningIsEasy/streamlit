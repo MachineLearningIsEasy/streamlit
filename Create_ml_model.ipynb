{
 "cells": [
  {
   "cell_type": "markdown",
   "id": "49b928bd-f00f-46a7-8b0e-317218dae3a4",
   "metadata": {},
   "source": [
    "## Diamond dataset\n",
    "https://www.kaggle.com/datasets/natedir/diamonds"
   ]
  },
  {
   "cell_type": "code",
   "execution_count": 19,
   "id": "75ff119f-af91-46a3-afdf-e45c764115d0",
   "metadata": {},
   "outputs": [],
   "source": [
    "import pandas as pd\n",
    "from sklearn.model_selection import train_test_split\n",
    "from sklearn.metrics import mean_absolute_error\n",
    "from catboost import CatBoostRegressor"
   ]
  },
  {
   "cell_type": "markdown",
   "id": "f3592f49-04c8-440d-83c6-7118da6c778d",
   "metadata": {},
   "source": [
    "### Готовим данные"
   ]
  },
  {
   "cell_type": "code",
   "execution_count": 33,
   "id": "717d9b60-8a5c-4e8b-962e-95087a8a6b9f",
   "metadata": {},
   "outputs": [
    {
     "data": {
      "text/html": [
       "<div>\n",
       "<style scoped>\n",
       "    .dataframe tbody tr th:only-of-type {\n",
       "        vertical-align: middle;\n",
       "    }\n",
       "\n",
       "    .dataframe tbody tr th {\n",
       "        vertical-align: top;\n",
       "    }\n",
       "\n",
       "    .dataframe thead th {\n",
       "        text-align: right;\n",
       "    }\n",
       "</style>\n",
       "<table border=\"1\" class=\"dataframe\">\n",
       "  <thead>\n",
       "    <tr style=\"text-align: right;\">\n",
       "      <th></th>\n",
       "      <th>Unnamed: 0</th>\n",
       "      <th>carat</th>\n",
       "      <th>cut</th>\n",
       "      <th>color</th>\n",
       "      <th>clarity</th>\n",
       "      <th>depth</th>\n",
       "      <th>table</th>\n",
       "      <th>price</th>\n",
       "      <th>x</th>\n",
       "      <th>y</th>\n",
       "      <th>z</th>\n",
       "    </tr>\n",
       "  </thead>\n",
       "  <tbody>\n",
       "    <tr>\n",
       "      <th>0</th>\n",
       "      <td>1</td>\n",
       "      <td>0.23</td>\n",
       "      <td>Ideal</td>\n",
       "      <td>E</td>\n",
       "      <td>SI2</td>\n",
       "      <td>61.5</td>\n",
       "      <td>55.0</td>\n",
       "      <td>326</td>\n",
       "      <td>3.95</td>\n",
       "      <td>3.98</td>\n",
       "      <td>2.43</td>\n",
       "    </tr>\n",
       "    <tr>\n",
       "      <th>1</th>\n",
       "      <td>2</td>\n",
       "      <td>0.21</td>\n",
       "      <td>Premium</td>\n",
       "      <td>E</td>\n",
       "      <td>SI1</td>\n",
       "      <td>59.8</td>\n",
       "      <td>61.0</td>\n",
       "      <td>326</td>\n",
       "      <td>3.89</td>\n",
       "      <td>3.84</td>\n",
       "      <td>2.31</td>\n",
       "    </tr>\n",
       "    <tr>\n",
       "      <th>2</th>\n",
       "      <td>3</td>\n",
       "      <td>0.23</td>\n",
       "      <td>Good</td>\n",
       "      <td>E</td>\n",
       "      <td>VS1</td>\n",
       "      <td>56.9</td>\n",
       "      <td>65.0</td>\n",
       "      <td>327</td>\n",
       "      <td>4.05</td>\n",
       "      <td>4.07</td>\n",
       "      <td>2.31</td>\n",
       "    </tr>\n",
       "    <tr>\n",
       "      <th>3</th>\n",
       "      <td>4</td>\n",
       "      <td>0.29</td>\n",
       "      <td>Premium</td>\n",
       "      <td>I</td>\n",
       "      <td>VS2</td>\n",
       "      <td>62.4</td>\n",
       "      <td>58.0</td>\n",
       "      <td>334</td>\n",
       "      <td>4.20</td>\n",
       "      <td>4.23</td>\n",
       "      <td>2.63</td>\n",
       "    </tr>\n",
       "    <tr>\n",
       "      <th>4</th>\n",
       "      <td>5</td>\n",
       "      <td>0.31</td>\n",
       "      <td>Good</td>\n",
       "      <td>J</td>\n",
       "      <td>SI2</td>\n",
       "      <td>63.3</td>\n",
       "      <td>58.0</td>\n",
       "      <td>335</td>\n",
       "      <td>4.34</td>\n",
       "      <td>4.35</td>\n",
       "      <td>2.75</td>\n",
       "    </tr>\n",
       "  </tbody>\n",
       "</table>\n",
       "</div>"
      ],
      "text/plain": [
       "   Unnamed: 0  carat      cut color clarity  depth  table  price     x     y  \\\n",
       "0           1   0.23    Ideal     E     SI2   61.5   55.0    326  3.95  3.98   \n",
       "1           2   0.21  Premium     E     SI1   59.8   61.0    326  3.89  3.84   \n",
       "2           3   0.23     Good     E     VS1   56.9   65.0    327  4.05  4.07   \n",
       "3           4   0.29  Premium     I     VS2   62.4   58.0    334  4.20  4.23   \n",
       "4           5   0.31     Good     J     SI2   63.3   58.0    335  4.34  4.35   \n",
       "\n",
       "      z  \n",
       "0  2.43  \n",
       "1  2.31  \n",
       "2  2.31  \n",
       "3  2.63  \n",
       "4  2.75  "
      ]
     },
     "execution_count": 33,
     "metadata": {},
     "output_type": "execute_result"
    }
   ],
   "source": [
    "df_diamonds = pd.read_csv('diamonds.csv')\n",
    "df_diamonds.head()"
   ]
  },
  {
   "cell_type": "code",
   "execution_count": 34,
   "id": "487a889e-3bcf-4f22-8461-84635b57f21c",
   "metadata": {},
   "outputs": [],
   "source": [
    "df_diamonds.drop(['Unnamed: 0'], axis=1,inplace=True)"
   ]
  },
  {
   "cell_type": "code",
   "execution_count": 35,
   "id": "97f45a11-6b0e-451f-a20b-e22a24078c3a",
   "metadata": {},
   "outputs": [
    {
     "name": "stdout",
     "output_type": "stream",
     "text": [
      "<class 'pandas.core.frame.DataFrame'>\n",
      "RangeIndex: 53940 entries, 0 to 53939\n",
      "Data columns (total 10 columns):\n",
      " #   Column   Non-Null Count  Dtype  \n",
      "---  ------   --------------  -----  \n",
      " 0   carat    53940 non-null  float64\n",
      " 1   cut      53940 non-null  object \n",
      " 2   color    53940 non-null  object \n",
      " 3   clarity  53940 non-null  object \n",
      " 4   depth    53940 non-null  float64\n",
      " 5   table    53940 non-null  float64\n",
      " 6   price    53940 non-null  int64  \n",
      " 7   x        53940 non-null  float64\n",
      " 8   y        53940 non-null  float64\n",
      " 9   z        53940 non-null  float64\n",
      "dtypes: float64(6), int64(1), object(3)\n",
      "memory usage: 4.1+ MB\n"
     ]
    }
   ],
   "source": [
    "df_diamonds.info()"
   ]
  },
  {
   "cell_type": "code",
   "execution_count": 36,
   "id": "3f51807a-2521-4ddf-8e3b-a8f55bf25c32",
   "metadata": {},
   "outputs": [],
   "source": [
    "y = df_diamonds['price']\n",
    "X = df_diamonds.drop(['price'], axis=1)"
   ]
  },
  {
   "cell_type": "code",
   "execution_count": 37,
   "id": "2e1e2bed-287f-40da-be5e-b11ab5d90ade",
   "metadata": {},
   "outputs": [
    {
     "name": "stdout",
     "output_type": "stream",
     "text": [
      "(43152, 9) 43152\n",
      "(10788, 9) 10788\n"
     ]
    }
   ],
   "source": [
    "X_train, X_test, y_train, y_test = train_test_split(X, y, test_size=0.2, random_state=0)\n",
    "print(X_train.shape, len(y_train))\n",
    "print(X_test.shape, len(y_test))"
   ]
  },
  {
   "cell_type": "markdown",
   "id": "7479116f-afde-4918-836b-a17755f6da46",
   "metadata": {},
   "source": [
    "### Учим модель"
   ]
  },
  {
   "cell_type": "code",
   "execution_count": 38,
   "id": "1e8872b3-fcb7-440f-9f89-968580fc1d93",
   "metadata": {},
   "outputs": [],
   "source": [
    "cat_features=['cut', 'color', 'clarity']"
   ]
  },
  {
   "cell_type": "code",
   "execution_count": 39,
   "id": "c273ce14-3034-4bd1-943c-1897bc671dce",
   "metadata": {},
   "outputs": [
    {
     "name": "stdout",
     "output_type": "stream",
     "text": [
      "0:\tlearn: 1536.8508789\ttotal: 4.84ms\tremaining: 479ms\n",
      "1:\tlearn: 1242.9798386\ttotal: 10.3ms\tremaining: 503ms\n",
      "2:\tlearn: 1044.8484081\ttotal: 15.7ms\tremaining: 508ms\n",
      "3:\tlearn: 951.3271921\ttotal: 19.9ms\tremaining: 477ms\n",
      "4:\tlearn: 894.0832520\ttotal: 23.5ms\tremaining: 447ms\n",
      "5:\tlearn: 859.0847833\ttotal: 27.3ms\tremaining: 427ms\n",
      "6:\tlearn: 827.3026822\ttotal: 31.5ms\tremaining: 418ms\n",
      "7:\tlearn: 799.4628893\ttotal: 35.2ms\tremaining: 405ms\n",
      "8:\tlearn: 756.1927229\ttotal: 39ms\tremaining: 394ms\n",
      "9:\tlearn: 741.5853611\ttotal: 42.4ms\tremaining: 382ms\n",
      "10:\tlearn: 731.1648726\ttotal: 46.1ms\tremaining: 373ms\n",
      "11:\tlearn: 698.1339506\ttotal: 49.8ms\tremaining: 365ms\n",
      "12:\tlearn: 692.4772928\ttotal: 53.4ms\tremaining: 358ms\n",
      "13:\tlearn: 683.3417204\ttotal: 56.7ms\tremaining: 348ms\n",
      "14:\tlearn: 671.5967504\ttotal: 60.4ms\tremaining: 342ms\n",
      "15:\tlearn: 667.4825386\ttotal: 63.5ms\tremaining: 334ms\n",
      "16:\tlearn: 648.2426713\ttotal: 66.7ms\tremaining: 326ms\n",
      "17:\tlearn: 638.4483466\ttotal: 69.8ms\tremaining: 318ms\n",
      "18:\tlearn: 631.0412949\ttotal: 72.7ms\tremaining: 310ms\n",
      "19:\tlearn: 628.5413803\ttotal: 75.4ms\tremaining: 302ms\n",
      "20:\tlearn: 620.9274204\ttotal: 78.4ms\tremaining: 295ms\n",
      "21:\tlearn: 618.2298231\ttotal: 81.5ms\tremaining: 289ms\n",
      "22:\tlearn: 612.9883086\ttotal: 84.4ms\tremaining: 282ms\n",
      "23:\tlearn: 605.0656506\ttotal: 87.3ms\tremaining: 276ms\n",
      "24:\tlearn: 600.1939720\ttotal: 90.3ms\tremaining: 271ms\n",
      "25:\tlearn: 596.3012034\ttotal: 93.2ms\tremaining: 265ms\n",
      "26:\tlearn: 595.8056575\ttotal: 96.1ms\tremaining: 260ms\n",
      "27:\tlearn: 592.5290469\ttotal: 98.9ms\tremaining: 254ms\n",
      "28:\tlearn: 590.9827981\ttotal: 102ms\tremaining: 249ms\n",
      "29:\tlearn: 590.3728213\ttotal: 105ms\tremaining: 244ms\n",
      "30:\tlearn: 587.3090441\ttotal: 107ms\tremaining: 239ms\n",
      "31:\tlearn: 584.3771457\ttotal: 110ms\tremaining: 235ms\n",
      "32:\tlearn: 581.3135682\ttotal: 113ms\tremaining: 230ms\n",
      "33:\tlearn: 579.7408833\ttotal: 116ms\tremaining: 226ms\n",
      "34:\tlearn: 578.3671220\ttotal: 119ms\tremaining: 221ms\n",
      "35:\tlearn: 575.8386721\ttotal: 122ms\tremaining: 217ms\n",
      "36:\tlearn: 570.4084963\ttotal: 125ms\tremaining: 213ms\n",
      "37:\tlearn: 568.6415556\ttotal: 128ms\tremaining: 209ms\n",
      "38:\tlearn: 566.1011377\ttotal: 131ms\tremaining: 205ms\n",
      "39:\tlearn: 563.4165538\ttotal: 134ms\tremaining: 201ms\n",
      "40:\tlearn: 561.4677805\ttotal: 137ms\tremaining: 197ms\n",
      "41:\tlearn: 561.3805577\ttotal: 140ms\tremaining: 193ms\n",
      "42:\tlearn: 561.3022685\ttotal: 143ms\tremaining: 189ms\n",
      "43:\tlearn: 561.1800930\ttotal: 146ms\tremaining: 185ms\n",
      "44:\tlearn: 558.4813877\ttotal: 149ms\tremaining: 182ms\n",
      "45:\tlearn: 557.4918660\ttotal: 152ms\tremaining: 178ms\n",
      "46:\tlearn: 557.4280047\ttotal: 155ms\tremaining: 175ms\n",
      "47:\tlearn: 554.2905580\ttotal: 158ms\tremaining: 171ms\n",
      "48:\tlearn: 553.6994016\ttotal: 161ms\tremaining: 168ms\n",
      "49:\tlearn: 549.9584530\ttotal: 164ms\tremaining: 164ms\n",
      "50:\tlearn: 548.3725288\ttotal: 167ms\tremaining: 160ms\n",
      "51:\tlearn: 546.4593169\ttotal: 170ms\tremaining: 157ms\n",
      "52:\tlearn: 543.9877638\ttotal: 173ms\tremaining: 154ms\n",
      "53:\tlearn: 541.8967990\ttotal: 177ms\tremaining: 151ms\n",
      "54:\tlearn: 539.3613434\ttotal: 180ms\tremaining: 148ms\n",
      "55:\tlearn: 538.3560114\ttotal: 183ms\tremaining: 144ms\n",
      "56:\tlearn: 537.3731831\ttotal: 186ms\tremaining: 141ms\n",
      "57:\tlearn: 535.9885983\ttotal: 189ms\tremaining: 137ms\n",
      "58:\tlearn: 535.0338354\ttotal: 192ms\tremaining: 133ms\n",
      "59:\tlearn: 533.6462862\ttotal: 195ms\tremaining: 130ms\n",
      "60:\tlearn: 533.3486078\ttotal: 199ms\tremaining: 127ms\n",
      "61:\tlearn: 531.7421037\ttotal: 202ms\tremaining: 124ms\n",
      "62:\tlearn: 530.5199734\ttotal: 205ms\tremaining: 121ms\n",
      "63:\tlearn: 529.5631857\ttotal: 209ms\tremaining: 117ms\n",
      "64:\tlearn: 528.5637154\ttotal: 212ms\tremaining: 114ms\n",
      "65:\tlearn: 527.1854557\ttotal: 215ms\tremaining: 111ms\n",
      "66:\tlearn: 525.9821351\ttotal: 218ms\tremaining: 107ms\n",
      "67:\tlearn: 525.8674924\ttotal: 221ms\tremaining: 104ms\n",
      "68:\tlearn: 525.1919431\ttotal: 224ms\tremaining: 100ms\n",
      "69:\tlearn: 523.8140235\ttotal: 226ms\tremaining: 97.1ms\n",
      "70:\tlearn: 523.0592499\ttotal: 229ms\tremaining: 93.7ms\n",
      "71:\tlearn: 522.6817923\ttotal: 232ms\tremaining: 90.2ms\n",
      "72:\tlearn: 522.3856206\ttotal: 235ms\tremaining: 86.9ms\n",
      "73:\tlearn: 521.7828352\ttotal: 238ms\tremaining: 83.6ms\n",
      "74:\tlearn: 521.4063194\ttotal: 241ms\tremaining: 80.4ms\n",
      "75:\tlearn: 520.2557368\ttotal: 244ms\tremaining: 77.1ms\n",
      "76:\tlearn: 519.7724184\ttotal: 247ms\tremaining: 73.9ms\n",
      "77:\tlearn: 518.7803738\ttotal: 251ms\tremaining: 70.7ms\n",
      "78:\tlearn: 516.4900607\ttotal: 254ms\tremaining: 67.4ms\n",
      "79:\tlearn: 514.6550965\ttotal: 257ms\tremaining: 64.2ms\n",
      "80:\tlearn: 514.1903277\ttotal: 260ms\tremaining: 60.9ms\n",
      "81:\tlearn: 512.6373584\ttotal: 263ms\tremaining: 57.6ms\n",
      "82:\tlearn: 512.2240162\ttotal: 265ms\tremaining: 54.4ms\n",
      "83:\tlearn: 511.2565506\ttotal: 268ms\tremaining: 51.1ms\n",
      "84:\tlearn: 510.4318947\ttotal: 271ms\tremaining: 47.8ms\n",
      "85:\tlearn: 510.1931810\ttotal: 274ms\tremaining: 44.6ms\n",
      "86:\tlearn: 509.5935217\ttotal: 277ms\tremaining: 41.4ms\n",
      "87:\tlearn: 508.2093154\ttotal: 280ms\tremaining: 38.2ms\n",
      "88:\tlearn: 507.2467367\ttotal: 283ms\tremaining: 35ms\n",
      "89:\tlearn: 506.5174661\ttotal: 286ms\tremaining: 31.8ms\n",
      "90:\tlearn: 506.0869854\ttotal: 289ms\tremaining: 28.6ms\n",
      "91:\tlearn: 505.4362958\ttotal: 292ms\tremaining: 25.4ms\n",
      "92:\tlearn: 505.1113594\ttotal: 295ms\tremaining: 22.2ms\n",
      "93:\tlearn: 504.1466826\ttotal: 298ms\tremaining: 19ms\n",
      "94:\tlearn: 502.7794519\ttotal: 301ms\tremaining: 15.8ms\n",
      "95:\tlearn: 501.5970218\ttotal: 304ms\tremaining: 12.7ms\n",
      "96:\tlearn: 500.7259076\ttotal: 307ms\tremaining: 9.49ms\n",
      "97:\tlearn: 500.0502818\ttotal: 310ms\tremaining: 6.33ms\n",
      "98:\tlearn: 499.6555592\ttotal: 313ms\tremaining: 3.16ms\n",
      "99:\tlearn: 499.2899596\ttotal: 316ms\tremaining: 0us\n"
     ]
    },
    {
     "data": {
      "text/plain": [
       "<catboost.core.CatBoostRegressor at 0x7fd2237d8040>"
      ]
     },
     "execution_count": 39,
     "metadata": {},
     "output_type": "execute_result"
    }
   ],
   "source": [
    "model = CatBoostRegressor(iterations=100,\n",
    "                          learning_rate=1,\n",
    "                          depth=5)\n",
    "# Fit model\n",
    "model.fit(X_train, y_train, cat_features=cat_features)"
   ]
  },
  {
   "cell_type": "code",
   "execution_count": 40,
   "id": "64fe5d98-7085-4582-9e05-6d1d23dd8a6f",
   "metadata": {},
   "outputs": [
    {
     "data": {
      "text/plain": [
       "283.4295739995182"
      ]
     },
     "execution_count": 40,
     "metadata": {},
     "output_type": "execute_result"
    }
   ],
   "source": [
    "# Get predictions\n",
    "mean_absolute_error(model.predict(X_train), y_train)"
   ]
  },
  {
   "cell_type": "code",
   "execution_count": 41,
   "id": "637dd2c1-3bf7-4aee-8164-b538f6062134",
   "metadata": {},
   "outputs": [
    {
     "data": {
      "text/plain": [
       "308.5291969248766"
      ]
     },
     "execution_count": 41,
     "metadata": {},
     "output_type": "execute_result"
    }
   ],
   "source": [
    "mean_absolute_error(model.predict(X_test), y_test)"
   ]
  },
  {
   "cell_type": "code",
   "execution_count": 42,
   "id": "c011bd0b-78ba-4e9f-bed7-617219d6e200",
   "metadata": {},
   "outputs": [],
   "source": [
    "model.save_model('diamond_catboost',\n",
    "           format=\"cbm\",\n",
    "           export_parameters=None,\n",
    "           pool=None)"
   ]
  },
  {
   "cell_type": "code",
   "execution_count": 43,
   "id": "1219250d-b38a-494e-9339-162e8d252dcb",
   "metadata": {},
   "outputs": [
    {
     "data": {
      "text/plain": [
       "308.5291969248766"
      ]
     },
     "execution_count": 43,
     "metadata": {},
     "output_type": "execute_result"
    }
   ],
   "source": [
    "model_load = CatBoostRegressor()\n",
    "model_load.load_model('diamond_catboost', format='cbm')\n",
    "mean_absolute_error(model_load.predict(X_test), y_test)"
   ]
  },
  {
   "cell_type": "code",
   "execution_count": 44,
   "id": "017b9c41-c0fc-46f2-a86b-db9eb0013aaa",
   "metadata": {},
   "outputs": [
    {
     "data": {
      "text/html": [
       "<div>\n",
       "<style scoped>\n",
       "    .dataframe tbody tr th:only-of-type {\n",
       "        vertical-align: middle;\n",
       "    }\n",
       "\n",
       "    .dataframe tbody tr th {\n",
       "        vertical-align: top;\n",
       "    }\n",
       "\n",
       "    .dataframe thead th {\n",
       "        text-align: right;\n",
       "    }\n",
       "</style>\n",
       "<table border=\"1\" class=\"dataframe\">\n",
       "  <thead>\n",
       "    <tr style=\"text-align: right;\">\n",
       "      <th></th>\n",
       "      <th>carat</th>\n",
       "      <th>cut</th>\n",
       "      <th>color</th>\n",
       "      <th>clarity</th>\n",
       "      <th>depth</th>\n",
       "      <th>table</th>\n",
       "      <th>x</th>\n",
       "      <th>y</th>\n",
       "      <th>z</th>\n",
       "    </tr>\n",
       "  </thead>\n",
       "  <tbody>\n",
       "    <tr>\n",
       "      <th>10176</th>\n",
       "      <td>1.10</td>\n",
       "      <td>Ideal</td>\n",
       "      <td>H</td>\n",
       "      <td>SI2</td>\n",
       "      <td>62.0</td>\n",
       "      <td>55.0</td>\n",
       "      <td>6.61</td>\n",
       "      <td>6.65</td>\n",
       "      <td>4.11</td>\n",
       "    </tr>\n",
       "    <tr>\n",
       "      <th>16083</th>\n",
       "      <td>1.29</td>\n",
       "      <td>Ideal</td>\n",
       "      <td>H</td>\n",
       "      <td>SI1</td>\n",
       "      <td>62.6</td>\n",
       "      <td>56.0</td>\n",
       "      <td>6.96</td>\n",
       "      <td>6.93</td>\n",
       "      <td>4.35</td>\n",
       "    </tr>\n",
       "    <tr>\n",
       "      <th>13420</th>\n",
       "      <td>1.20</td>\n",
       "      <td>Premium</td>\n",
       "      <td>I</td>\n",
       "      <td>SI1</td>\n",
       "      <td>61.1</td>\n",
       "      <td>58.0</td>\n",
       "      <td>6.88</td>\n",
       "      <td>6.80</td>\n",
       "      <td>4.18</td>\n",
       "    </tr>\n",
       "    <tr>\n",
       "      <th>20407</th>\n",
       "      <td>1.50</td>\n",
       "      <td>Ideal</td>\n",
       "      <td>F</td>\n",
       "      <td>SI1</td>\n",
       "      <td>60.9</td>\n",
       "      <td>56.0</td>\n",
       "      <td>7.43</td>\n",
       "      <td>7.36</td>\n",
       "      <td>4.50</td>\n",
       "    </tr>\n",
       "    <tr>\n",
       "      <th>8909</th>\n",
       "      <td>0.90</td>\n",
       "      <td>Very Good</td>\n",
       "      <td>F</td>\n",
       "      <td>VS2</td>\n",
       "      <td>61.7</td>\n",
       "      <td>57.0</td>\n",
       "      <td>6.17</td>\n",
       "      <td>6.21</td>\n",
       "      <td>3.82</td>\n",
       "    </tr>\n",
       "  </tbody>\n",
       "</table>\n",
       "</div>"
      ],
      "text/plain": [
       "       carat        cut color clarity  depth  table     x     y     z\n",
       "10176   1.10      Ideal     H     SI2   62.0   55.0  6.61  6.65  4.11\n",
       "16083   1.29      Ideal     H     SI1   62.6   56.0  6.96  6.93  4.35\n",
       "13420   1.20    Premium     I     SI1   61.1   58.0  6.88  6.80  4.18\n",
       "20407   1.50      Ideal     F     SI1   60.9   56.0  7.43  7.36  4.50\n",
       "8909    0.90  Very Good     F     VS2   61.7   57.0  6.17  6.21  3.82"
      ]
     },
     "execution_count": 44,
     "metadata": {},
     "output_type": "execute_result"
    }
   ],
   "source": [
    "X_test.head()"
   ]
  },
  {
   "cell_type": "code",
   "execution_count": null,
   "id": "d2e0304f-1a4a-44a7-a942-84dda848dc99",
   "metadata": {},
   "outputs": [],
   "source": []
  }
 ],
 "metadata": {
  "kernelspec": {
   "display_name": "Python 3 (ipykernel)",
   "language": "python",
   "name": "python3"
  },
  "language_info": {
   "codemirror_mode": {
    "name": "ipython",
    "version": 3
   },
   "file_extension": ".py",
   "mimetype": "text/x-python",
   "name": "python",
   "nbconvert_exporter": "python",
   "pygments_lexer": "ipython3",
   "version": "3.9.6"
  }
 },
 "nbformat": 4,
 "nbformat_minor": 5
}
